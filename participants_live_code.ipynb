{
 "cells": [
  {
   "cell_type": "code",
   "execution_count": null,
   "id": "8680691f-a91a-4d69-9a1d-62e078ae1c3d",
   "metadata": {
    "trusted": true
   },
   "outputs": [],
   "source": [
    "import xarray as xr # For working with NetCDF files as xarray objects . Look here: https://docs.xarray.dev/en/stable/ for more information"
   ]
  },
  {
   "cell_type": "markdown",
   "id": "7c2f3c5f-8017-4296-a018-c70481130b30",
   "metadata": {},
   "source": [
    "# Open Netcdf datasets via Opendap requests"
   ]
  },
  {
   "cell_type": "markdown",
   "id": "d54436d1-bd67-428b-b4a2-11e7770558c5",
   "metadata": {},
   "source": [
    "**Dataset title**: Detailed observations of the spatial and temporal distribution of rainfall and drizzle in Lopik, Netherlands\n",
    "\n",
    "[Link to dataset 1](https://data.4tu.nl/articles/_/12696887/1) \n",
    "\n",
    "Comments: Go to the opendap data service at the bottom of the dataset landing page and click on the link and go to the folder 2019/01/01 "
   ]
  },
  {
   "cell_type": "code",
   "execution_count": 3,
   "id": "198722e4-63c0-4a05-8d55-404a7d684e27",
   "metadata": {
    "trusted": true
   },
   "outputs": [],
   "source": [
    "## Open the netcdf dataset and inspect it "
   ]
  },
  {
   "cell_type": "markdown",
   "id": "bb08f7be-75bb-4624-8dfa-c242d1ccf25d",
   "metadata": {},
   "source": [
    "## Exploring the netcdf structure\n",
    "\n",
    "A classic NetCDF file like this one can be broken down into 3 components:\n",
    "- dimensions, variables and global attributes.\n",
    "\n",
    "- The variables can be broken down into coordinate variables and data variables. Sometimes \n",
    "they are displayed separately like here, but if you open a NetCDF file using different software the coordinate variables and data variables might be displayed together."
   ]
  },
  {
   "cell_type": "markdown",
   "id": "90909d07-4c39-4de5-b18b-5c0567af4e9d",
   "metadata": {},
   "source": [
    "## Attributes\n",
    "\n",
    "Conventions is probably the most important global attribute because it tells you (and a machine) how to interpret the rest of the file. CF-1.4 refers to version 1.4 of the CF conventions, which you can find here:\n",
    "\n",
    "https://cfconventions.org/Data/cf-conventions/cf-conventions-1.4/build/cf-conventions.html"
   ]
  },
  {
   "cell_type": "code",
   "execution_count": 4,
   "id": "768a0de3-4c92-437b-8cc7-d2ef149aee91",
   "metadata": {
    "trusted": true
   },
   "outputs": [],
   "source": [
    "## Looking at the attributes of the dataset"
   ]
  },
  {
   "cell_type": "markdown",
   "id": "198a09d8-600a-4c58-9e21-95983cd8da7a",
   "metadata": {},
   "source": [
    "## Dimensions\n",
    "\n",
    "Dimensions are given as a FrozenDict is an immutable dictionary used by xarray for safety, consistency, and performance.\n",
    "\n",
    "You cannot modify it directly, which helps prevent accidental dimension changes in your datasets.\n",
    "\n",
    "In other words:\n",
    "\n",
    "- Dimensions are fixed:\n",
    "\n",
    "- You can’t accidentally change their length.\n",
    "\n",
    "- You have to explicitly create new datasets or slices if you want different dimensions."
   ]
  },
  {
   "cell_type": "code",
   "execution_count": null,
   "id": "cb4ebe1c-d459-4781-a82e-53fd9048ff72",
   "metadata": {
    "trusted": true
   },
   "outputs": [],
   "source": [
    "## Looking at the dimensions of the dataset"
   ]
  },
  {
   "cell_type": "markdown",
   "id": "72433017-1006-410c-84aa-5fbffe18f213",
   "metadata": {},
   "source": [
    "## Coordinate and data variables\n",
    "\n",
    "### Coordinate variables \n",
    "\n",
    "Coordinate variables in xarray (and NetCDF, following the CF conventions) are variables used to label and index data along each dimension clearly.\n",
    "\n",
    "- Coordinate variables give context to the dimensions.\n",
    "\n",
    "They usually represent:\n",
    "\n",
    "- time points (e.g., timestamps)\n",
    "\n",
    "- spatial locations (latitude, longitude, altitude, depth, distance)\n",
    "\n",
    "- other meaningful numeric or categorical indexes"
   ]
  },
  {
   "cell_type": "code",
   "execution_count": null,
   "id": "6a093c3a-18bc-4cf5-bab5-b81d3fb7c7ac",
   "metadata": {
    "trusted": true
   },
   "outputs": [],
   "source": [
    "## Looking at the coordinate variables of the dataset "
   ]
  },
  {
   "cell_type": "code",
   "execution_count": null,
   "id": "6ea4bc47-345c-4b94-b51c-7822500e9433",
   "metadata": {
    "trusted": true
   },
   "outputs": [],
   "source": [
    "## Looking at the coordinate variables's attributes of the dataset"
   ]
  },
  {
   "cell_type": "markdown",
   "id": "69d54b3b-82fb-441b-a8e8-b87a6db9e9d2",
   "metadata": {},
   "source": [
    "### Data variables\n",
    "\n",
    "- Data variables are the primary measurements or observations stored in your dataset.\n",
    "\n",
    "- They are the main scientific or observational values you're analyzing.\n",
    "\n",
    "- Each data variable is associated with one or more dimensions (and thus coordinates)"
   ]
  },
  {
   "cell_type": "code",
   "execution_count": null,
   "id": "4e186f36-28b9-433a-9544-1c40af4e1d0b",
   "metadata": {
    "trusted": true
   },
   "outputs": [],
   "source": [
    "## Looking at the data variables of the dataset "
   ]
  },
  {
   "cell_type": "code",
   "execution_count": null,
   "id": "58680670-edde-4de9-a3d0-47477802ea6a",
   "metadata": {
    "trusted": true
   },
   "outputs": [],
   "source": [
    "## Looking at the data variables's attributes of the dataset"
   ]
  },
  {
   "cell_type": "code",
   "execution_count": null,
   "id": "4c68d0d3-bded-40e0-8ad8-c9159c11a962",
   "metadata": {
    "trusted": true
   },
   "outputs": [],
   "source": [
    "## Plotting some of the data variables  "
   ]
  },
  {
   "cell_type": "markdown",
   "id": "0a61bc9c-5ee8-4f9d-bc51-3e6f9be2dfd7",
   "metadata": {},
   "source": [
    "# An undocumented netcdf dataset\n",
    "\n",
    "DENlab wind data\n",
    "\n",
    "Measuring instrument: DENlab wind speed meter Standard aenemometer as commonly used in water sports.\n",
    "\n",
    "[Link to the dataset](https://data.4tu.nl/articles/_/12708080/1)\n",
    "\n",
    "Comments: Go to the opendap data service at the bottom of the dataset landing page and click on the link and go to the file wind-2008.nc"
   ]
  },
  {
   "cell_type": "code",
   "execution_count": null,
   "id": "70950278-0a7b-4cba-aa9a-24f64ec82efb",
   "metadata": {
    "trusted": true
   },
   "outputs": [],
   "source": [
    "## Open the file and inspect it "
   ]
  },
  {
   "cell_type": "code",
   "execution_count": null,
   "id": "3dbf82dd-ebf5-4555-9486-891eb505bc56",
   "metadata": {
    "trusted": true
   },
   "outputs": [],
   "source": [
    "## Look at the attributes. What do you see? What do you miss? "
   ]
  },
  {
   "cell_type": "code",
   "execution_count": null,
   "id": "8271f313-19ca-4e0a-a0ae-1e2a6bc93968",
   "metadata": {
    "trusted": true
   },
   "outputs": [],
   "source": [
    "## Look at the data variables. which dimensions does it have? Can you plot it? "
   ]
  },
  {
   "cell_type": "markdown",
   "id": "b6877350-0e60-47f9-910a-41360bb0f329",
   "metadata": {},
   "source": [
    "**Why is NOT following the CF Convention a bad practice?**\n",
    "\n",
    "1. Limited interpretability\n",
    "Without clear metadata (e.g., units, descriptions, reference systems), data is ambiguous.\n",
    "\n",
    "Users can misunderstand or incorrectly interpret data.\n",
    "\n",
    "2. Poor interoperability\n",
    "Tools relying on conventions (e.g., visualization software, OPeNDAP servers) expect clearly defined attributes and structures.\n",
    "\n",
    "Non-standard files cannot easily integrate into data-processing workflows.\n",
    "\n",
    "3. Reduced Reusability and Reproducibility\n",
    "Missing standard conventions → extra effort to reuse or verify results.\n",
    "\n",
    "Others may avoid using unclear or non-standard data.\n",
    "\n",
    "4. Reduced Findability\n",
    "Convention-based metadata improves searchability in data catalogs and repositories."
   ]
  },
  {
   "cell_type": "markdown",
   "id": "ae45c671-752c-434d-b0d8-2e3895b3929f",
   "metadata": {},
   "source": [
    "**Benefits of CF-Conventions (Climate & Forecast)**\n",
    "\n",
    "CF Conventions specify:\n",
    "\n",
    "- Dimensions and Coordinates clearly labeled (e.g., latitude, longitude, height, time).\n",
    "\n",
    "- Units, standard_name, and long_name attributes clearly documented.\n",
    "\n",
    "- Variables structured in standardized ways, easily readable by common tools (xarray, Panoply, ncview).\n",
    "\n",
    "- Improved data interoperability, allowing easier sharing and reuse of data in science communities."
   ]
  },
  {
   "cell_type": "markdown",
   "id": "42c93578-8e7b-4c25-bb10-36a69546a700",
   "metadata": {},
   "source": [
    " Minimal CF-compliance checklist\n",
    "\n",
    "| CF Element                        | Required?     | Example                                  |\n",
    "|-----------------------------------|---------------|------------------------------------------|\n",
    "| **Conventions global attribute**  | ✅ Mandatory  | `Conventions = \"CF-1.10\"`                |\n",
    "| **Dimensions clearly defined**    | ✅ Mandatory  | `time`, `latitude`, `longitude`, `height`|\n",
    "| **Variable attributes: units**    | ✅ Mandatory  | `units = \"m s-1\"`                        |\n",
    "| **Variable attributes: standard_name** | ✅ Recommended | `standard_name = \"northward_wind\"`     |\n",
    "| **Coordinate attributes: axis**   | ✅ Recommended | `axis = \"T\"` (for time)                 |\n",
    "| **Global attributes: metadata**   | ✅ Recommended | `title`, `institution`, `history`, `source`|\n"
   ]
  },
  {
   "cell_type": "markdown",
   "id": "2848d2ac-8c9e-4abf-931e-8500e6509515",
   "metadata": {},
   "source": [
    "## Adjust this dataset to adhere the CF convention "
   ]
  },
  {
   "cell_type": "markdown",
   "id": "fa7353aa",
   "metadata": {},
   "source": [
    "### Example"
   ]
  },
  {
   "cell_type": "code",
   "execution_count": null,
   "id": "8f7fa672",
   "metadata": {},
   "outputs": [],
   "source": [
    "import xarray as xr\n",
    "import numpy as np\n",
    "import pandas as pd\n",
    "\n",
    "# Step 1: Recreate the undocumented dataset with a dummy dataset\n",
    "times = pd.date_range(\"2023-01-01\", periods=10, freq='h')\n",
    "v_wind = np.random.rand(10) * 10  # Example data\n",
    "\n",
    "ds = xr.Dataset(\n",
    "    data_vars={\n",
    "        \"v_wind\": (\"time\", v_wind, {\n",
    "            \"units\": \"m s-1\"\n",
    "        }),\n",
    "    },\n",
    "    coords={\n",
    "        \"time\": times,\n",
    "    },\n",
    "    attrs={\n",
    "        \"title\": \"DENlab wind data, raw, 2008\"\n",
    "    }\n",
    ")\n",
    "\n",
    "# Step 2: Add latitude, longitude, height coordinates explicitly\n",
    "ds = ds.assign_coords(\n",
    "    latitude=52.0,\n",
    "    longitude=4.3,\n",
    "    height=10.0\n",
    ")\n",
    "\n",
    "# Step 3: Add CF-compliant attributes explicitly\n",
    "# Latitude attributes\n",
    "ds[\"latitude\"].attrs.update({\n",
    "    \"units\": \"degrees_north\",\n",
    "    \"standard_name\": \"latitude\"\n",
    "})\n",
    "\n",
    "# Longitude attributes\n",
    "ds[\"longitude\"].attrs.update({\n",
    "    \"units\": \"degrees_east\",\n",
    "    \"standard_name\": \"longitude\"\n",
    "})\n",
    "\n",
    "# Height attributes\n",
    "ds[\"height\"].attrs.update({\n",
    "    \"units\": \"m\",\n",
    "    \"standard_name\": \"height\",\n",
    "    \"positive\": \"up\"\n",
    "})\n",
    "\n",
    "# Time attributes\n",
    "ds[\"time\"].attrs.update({\n",
    "    \"standard_name\": \"time\",\n",
    "    \"axis\": \"T\",\n",
    "    \"long_name\": \"Time of measurement\"\n",
    "})\n",
    "\n",
    "# Data variable attributes\n",
    "ds[\"v_wind\"].attrs.update({\n",
    "    \"standard_name\": \"northward_wind\",\n",
    "    \"long_name\": \"Northward component of wind velocity\"\n",
    "})\n",
    "\n",
    "# Global attributes for CF-compliance\n",
    "ds.attrs.update({\n",
    "    \"Conventions\": \"CF-1.10\",\n",
    "    \"institution\": \"Delft University of Technology\",\n",
    "    \"source\": \"DENlab Wind Sensor\",\n",
    "    \"history\": f\"Converted to CF conventions on {pd.Timestamp.now()}\"\n",
    "})\n",
    "\n",
    "# Step 4: Save to a CF-compliant NetCDF file\n",
    "ds.to_netcdf(\"denlab_wind_cf.nc\")\n",
    "\n",
    "print(\"CF-compliant NetCDF file created: 'denlab_wind_cf.nc'\")\n"
   ]
  }
 ],
 "metadata": {
  "kernelspec": {
   "display_name": "netcdf_python",
   "language": "python",
   "name": "python3"
  },
  "language_info": {
   "codemirror_mode": {
    "name": "ipython",
    "version": 3
   },
   "file_extension": ".py",
   "mimetype": "text/x-python",
   "name": "python",
   "nbconvert_exporter": "python",
   "pygments_lexer": "ipython3",
   "version": "3.12.10"
  }
 },
 "nbformat": 4,
 "nbformat_minor": 5
}
