{
 "cells": [
  {
   "cell_type": "markdown",
   "metadata": {},
   "source": [
    "# Accessing and Analyzing NetCDF Files via OPeNDAP\n",
    "\n",
    "Welcome to this hands-on tutorial! In this session, we will:\n",
    "- Access NetCDF files from 4TU.ResearchData using the OPeNDAP protocol\n",
    "- Explore and manipulate datasets using `xarray`\n",
    "- Update metadata to comply with Climate and Forecast (CF) conventions\n",
    "- (Optional) Use IIIF APIs to aggregate and view high-resolution microscopy images\n",
    "\n",
    "\n"
   ]
  },
  {
   "cell_type": "code",
   "execution_count": 1,
   "metadata": {},
   "outputs": [
    {
     "ename": "ModuleNotFoundError",
     "evalue": "No module named 'cf_xarray'",
     "output_type": "error",
     "traceback": [
      "\u001b[1;31m---------------------------------------------------------------------------\u001b[0m",
      "\u001b[1;31mModuleNotFoundError\u001b[0m                       Traceback (most recent call last)",
      "Cell \u001b[1;32mIn[1], line 5\u001b[0m\n\u001b[0;32m      3\u001b[0m \u001b[38;5;28;01mimport\u001b[39;00m \u001b[38;5;21;01mnumpy\u001b[39;00m \u001b[38;5;28;01mas\u001b[39;00m \u001b[38;5;21;01mnp\u001b[39;00m\n\u001b[0;32m      4\u001b[0m \u001b[38;5;28;01mimport\u001b[39;00m \u001b[38;5;21;01mmatplotlib\u001b[39;00m\u001b[38;5;21;01m.\u001b[39;00m\u001b[38;5;21;01mpyplot\u001b[39;00m \u001b[38;5;28;01mas\u001b[39;00m \u001b[38;5;21;01mplt\u001b[39;00m\n\u001b[1;32m----> 5\u001b[0m \u001b[38;5;28;01mimport\u001b[39;00m \u001b[38;5;21;01mcf_xarray\u001b[39;00m\n\u001b[0;32m      6\u001b[0m \u001b[38;5;28;01mimport\u001b[39;00m \u001b[38;5;21;01mrequests\u001b[39;00m\n\u001b[0;32m      7\u001b[0m \u001b[38;5;28;01mfrom\u001b[39;00m \u001b[38;5;21;01mIPython\u001b[39;00m\u001b[38;5;21;01m.\u001b[39;00m\u001b[38;5;21;01mdisplay\u001b[39;00m \u001b[38;5;28;01mimport\u001b[39;00m IFrame, display\n",
      "\u001b[1;31mModuleNotFoundError\u001b[0m: No module named 'cf_xarray'"
     ]
    }
   ],
   "source": [
    "\n",
    "# === 1. Setup ===\n",
    "import xarray as xr # For working with NetCDF files as xarray objects\n",
    "import numpy as np\n",
    "import matplotlib.pyplot as plt\n",
    "import cf_xarray\n",
    "import requests\n",
    "from IPython.display import IFrame, display\n",
    "\n",
    "%matplotlib inline  # If you're in a notebook\n",
    "\n"
   ]
  },
  {
   "cell_type": "code",
   "execution_count": null,
   "metadata": {},
   "outputs": [],
   "source": [
    "# === 2. Access NetCDF Data via OPeNDAP ===\n",
    "# Example URL from 4TU - replace with a real dataset\n",
    "url = \"https://opendap.4tu.nl/thredds/dodsC/your-dataset.nc\"\n",
    "\n",
    "# Load dataset\n",
    "ds = xr.open_dataset(url)\n",
    "ds\n",
    "\n",
    "# === 3. Explore Variables and Dimensions ===\n",
    "print(\"Variables:\", list(ds.variables.keys()))\n",
    "print(\"Dimensions:\", ds.dims)\n",
    "\n",
    "# === 4. Plot an Example Variable ===\n",
    "# Replace 'temperature' with the actual variable name\n",
    "ds['temperature'].isel(time=0).plot()\n",
    "plt.title('Surface Temperature Snapshot')\n",
    "plt.show()\n",
    "\n",
    "# === 5. CF Metadata Compliance and Enhancement ===\n",
    "# View CF-compliant attributes\n",
    "ds.cf\n",
    "\n",
    "# Example: Add CF-compliant attributes\n",
    "ds['temperature'].attrs.update({\n",
    "    'standard_name': 'air_temperature',\n",
    "    'long_name': 'Surface Air Temperature',\n",
    "    'units': 'K'\n",
    "})\n",
    "\n",
    "# Save updated dataset\n",
    "ds.to_netcdf(\"updated_cf_dataset.nc\")\n",
    "\n",
    "# === 📝 Exercise: CF Metadata Practice ===\n",
    "# Task: Pick another variable and update its metadata to follow CF conventions\n",
    "# Example:\n",
    "# ds['humidity'].attrs.update({\n",
    "#     'standard_name': 'relative_humidity',\n",
    "#     'units': '%',\n",
    "#     'long_name': 'Relative Humidity'\n",
    "# })\n",
    "\n",
    "# === 6. (Optional) IIIF Microscopy Image Viewer ===\n",
    "# If you have a IIIF manifest (e.g., from 4TU for microscopy image collections)\n",
    "# Use the viewer to embed the image in notebook\n",
    "\n",
    "# Replace with an actual manifest URL from 4TU's IIIF service\n",
    "iiif_manifest_url = \"https://viewer.4tu.nl/?manifest=https://iiif.4tu.nl/your_manifest.json\"\n",
    "display(IFrame(iiif_manifest_url, width=800, height=500))\n",
    "\n",
    "# === End of Notebook ===\n",
    "# Resources:\n",
    "# - https://data.4tu.nl/\n",
    "# - https://www.opendap.org/\n",
    "# - https://cfconventions.org/\n",
    "# - https://xarray.dev/\n",
    "# - https://iiif.io/\n"
   ]
  }
 ],
 "metadata": {
  "kernelspec": {
   "display_name": "base",
   "language": "python",
   "name": "python3"
  },
  "language_info": {
   "codemirror_mode": {
    "name": "ipython",
    "version": 3
   },
   "file_extension": ".py",
   "mimetype": "text/x-python",
   "name": "python",
   "nbconvert_exporter": "python",
   "pygments_lexer": "ipython3",
   "version": "3.12.7"
  }
 },
 "nbformat": 4,
 "nbformat_minor": 2
}
