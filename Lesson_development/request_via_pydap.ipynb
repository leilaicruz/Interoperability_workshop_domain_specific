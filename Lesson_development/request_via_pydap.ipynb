{
 "cells": [
  {
   "cell_type": "code",
   "execution_count": 1,
   "id": "603503d9",
   "metadata": {},
   "outputs": [],
   "source": [
    "import pydap\n",
    "from pydap.client import open_url"
   ]
  },
  {
   "cell_type": "code",
   "execution_count": 2,
   "id": "f0f91833",
   "metadata": {},
   "outputs": [],
   "source": [
    "netcdf_file_1=\"https://opendap.4tu.nl/thredds/dodsC/IDRA/2019/01/01/IDRA_2019-01-01_00-00_raw_data.nc\" # (weights 1GB)\n",
    "\n",
    "nectcdf_file_1_1=\"https://opendap.4tu.nl/thredds/dodsC/IDRA/2019/01/01/IDRA_2019-01-01_standard_range.nc\" # (weights 2GB)\n"
   ]
  },
  {
   "cell_type": "code",
   "execution_count": 7,
   "id": "727c8e87",
   "metadata": {},
   "outputs": [
    {
     "name": "stdout",
     "output_type": "stream",
     "text": [
      "<DatasetType with children 'iso_dataset', 'product', 'station_details', 'time_raw_data', 'sample_beat_signal', 'time_processed_data', 'range', 'i_hh', 'q_hh', 'i_vv', 'q_vv', 'i_vh', 'q_vh', 'noise_power_horizontal', 'noise_power_vertical', 'equivalent_reflectivity_factor', 'differential_reflectivity', 'linear_depolarisation_ratio', 'radial_velocity', 'spectrum_width', 'differential_phase', 'azimuth_raw_data', 'azimuth_processed_data', 'range_resolution', 'radiation_wavelength', 'frequency_excursion', 'sweep_time', 'tx_power', 'sample_size', 'beam_width', 'elevation_angle'>\n"
     ]
    }
   ],
   "source": [
    "ds=open_url(netcdf_file_1,protocol='dap2')\n",
    "print(ds)"
   ]
  },
  {
   "cell_type": "code",
   "execution_count": 11,
   "id": "b4460b20",
   "metadata": {},
   "outputs": [
    {
     "name": "stdout",
     "output_type": "stream",
     "text": [
      ".IDRA/2019/01/01/IDRA_2019-01-01_00-00_raw_data.nc\n",
      "├──iso_dataset\n",
      "├──product\n",
      "├──station_details\n",
      "├──time_raw_data\n",
      "├──sample_beat_signal\n",
      "├──time_processed_data\n",
      "├──range\n",
      "├──i_hh\n",
      "│  ├──i_hh\n",
      "│  ├──time_raw_data\n",
      "│  └──sample_beat_signal\n",
      "├──q_hh\n",
      "│  ├──q_hh\n",
      "│  ├──time_raw_data\n",
      "│  └──sample_beat_signal\n",
      "├──i_vv\n",
      "│  ├──i_vv\n",
      "│  ├──time_raw_data\n",
      "│  └──sample_beat_signal\n",
      "├──q_vv\n",
      "│  ├──q_vv\n",
      "│  ├──time_raw_data\n",
      "│  └──sample_beat_signal\n",
      "├──i_vh\n",
      "│  ├──i_vh\n",
      "│  ├──time_raw_data\n",
      "│  └──sample_beat_signal\n",
      "├──q_vh\n",
      "│  ├──q_vh\n",
      "│  ├──time_raw_data\n",
      "│  └──sample_beat_signal\n",
      "├──noise_power_horizontal\n",
      "├──noise_power_vertical\n",
      "├──equivalent_reflectivity_factor\n",
      "│  ├──equivalent_reflectivity_factor\n",
      "│  ├──time_processed_data\n",
      "│  └──range\n",
      "├──differential_reflectivity\n",
      "│  ├──differential_reflectivity\n",
      "│  ├──time_processed_data\n",
      "│  └──range\n",
      "├──linear_depolarisation_ratio\n",
      "│  ├──linear_depolarisation_ratio\n",
      "│  ├──time_processed_data\n",
      "│  └──range\n",
      "├──radial_velocity\n",
      "│  ├──radial_velocity\n",
      "│  ├──time_processed_data\n",
      "│  └──range\n",
      "├──spectrum_width\n",
      "│  ├──spectrum_width\n",
      "│  ├──time_processed_data\n",
      "│  └──range\n",
      "├──differential_phase\n",
      "│  ├──differential_phase\n",
      "│  ├──time_processed_data\n",
      "│  └──range\n",
      "├──azimuth_raw_data\n",
      "├──azimuth_processed_data\n",
      "├──range_resolution\n",
      "├──radiation_wavelength\n",
      "├──frequency_excursion\n",
      "├──sweep_time\n",
      "├──tx_power\n",
      "├──sample_size\n",
      "├──beam_width\n",
      "└──elevation_angle\n"
     ]
    }
   ],
   "source": [
    "ds.tree()"
   ]
  },
  {
   "cell_type": "code",
   "execution_count": null,
   "id": "fa637264",
   "metadata": {},
   "outputs": [],
   "source": []
  }
 ],
 "metadata": {
  "kernelspec": {
   "display_name": "netcdf_python",
   "language": "python",
   "name": "python3"
  },
  "language_info": {
   "codemirror_mode": {
    "name": "ipython",
    "version": 3
   },
   "file_extension": ".py",
   "mimetype": "text/x-python",
   "name": "python",
   "nbconvert_exporter": "python",
   "pygments_lexer": "ipython3",
   "version": "3.12.10"
  }
 },
 "nbformat": 4,
 "nbformat_minor": 5
}
